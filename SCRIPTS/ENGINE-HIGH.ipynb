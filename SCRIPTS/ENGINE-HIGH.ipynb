{
 "cells": [
  {
   "cell_type": "code",
   "execution_count": 1,
   "metadata": {},
   "outputs": [],
   "source": [
    "import numpy as np\n",
    "import pandas as pd\n",
    "import matplotlib.pyplot as plt\n",
    "from sklearn.linear_model import LinearRegression,Lasso,Ridge,ElasticNet\n",
    "from sklearn.neighbors import KNeighborsClassifier\n",
    "from sklearn.metrics import mean_squared_error, r2_score\n",
    "from sklearn.model_selection import train_test_split"
   ]
  },
  {
   "cell_type": "code",
   "execution_count": 2,
   "metadata": {},
   "outputs": [],
   "source": [
    "def Gen_Data(csv):\n",
    "    data=pd.read_csv(csv)\n",
    "    return data"
   ]
  },
  {
   "cell_type": "code",
   "execution_count": 3,
   "metadata": {},
   "outputs": [],
   "source": [
    "def file(csv_loc):\n",
    "    for i in range (len(csv_loc)):\n",
    "        if csv_loc[i]=='/':\n",
    "            csv_loc=csv_loc[:i+1]+'/'+csv_loc[i+1:]\n",
    "    return csv_loc"
   ]
  },
  {
   "cell_type": "code",
   "execution_count": 95,
   "metadata": {},
   "outputs": [
    {
     "name": "stdout",
     "output_type": "stream",
     "text": [
      "file location::C:\\Users\\Bharat\\Downloads\\16-11-2018-TO-15-11-2019CANBKEQN.csv\n",
      "243    214.4\n",
      "Name: High Price, dtype: float64 \t [208.46591902]\n"
     ]
    },
    {
     "name": "stderr",
     "output_type": "stream",
     "text": [
      "C:\\Users\\Bharat\\Anaconda3\\lib\\site-packages\\sklearn\\metrics\\regression.py:543: UndefinedMetricWarning: R^2 score is not well-defined with less than two samples.\n",
      "  warnings.warn(msg, UndefinedMetricWarning)\n",
      "C:\\Users\\Bharat\\Anaconda3\\lib\\site-packages\\sklearn\\metrics\\regression.py:543: UndefinedMetricWarning: R^2 score is not well-defined with less than two samples.\n",
      "  warnings.warn(msg, UndefinedMetricWarning)\n",
      "C:\\Users\\Bharat\\Anaconda3\\lib\\site-packages\\sklearn\\metrics\\regression.py:543: UndefinedMetricWarning: R^2 score is not well-defined with less than two samples.\n",
      "  warnings.warn(msg, UndefinedMetricWarning)\n",
      "C:\\Users\\Bharat\\Anaconda3\\lib\\site-packages\\sklearn\\metrics\\regression.py:543: UndefinedMetricWarning: R^2 score is not well-defined with less than two samples.\n",
      "  warnings.warn(msg, UndefinedMetricWarning)\n"
     ]
    }
   ],
   "source": [
    "\n",
    "    csv=input(\"file location::\")\n",
    "    csv=file(csv)\n",
    "    data=Gen_Data(csv);elastic=ElasticNet()\n",
    "    requirements=data[['Open Price','Prev Close','Last Price']];target=target=data['High Price']\n",
    "    x_train,x_test,y_train,y_test=train_test_split(requirements,target,test_size=.0005,shuffle=False)\n",
    "    elastic.fit(x_train,y_train)\n",
    "    ElasticNet_high=elastic.predict(x_test)\n",
    "    ElasticNet_rmse = mean_squared_error(y_test,ElasticNet_high);ElasticNet_r2 = r2_score(y_test,ElasticNet_high)\n",
    "    #final=[ElasticNet_high,ElasticNet_rmse,ElasticNet_r2,y_test]\n",
    "    lass=Lasso()\n",
    "    lass.fit(x_train,y_train)\n",
    "    Lasso_high=lass.predict(x_test)\n",
    "    Lasso_rmse = mean_squared_error(y_test,Lasso_high);Lasso_r2 = r2_score(y_test,Lasso_high)\n",
    "    linear=LinearRegression()\n",
    "    linear.fit(x_train,y_train)\n",
    "    Linear_high=linear.predict(x_test)\n",
    "    Linear_rmse = mean_squared_error(y_test,Linear_high);Linear_r2 = r2_score(y_test,Linear_high)\n",
    "    ridge=Ridge()\n",
    "    ridge.fit(x_train,y_train)\n",
    "    Ridge_high=ridge.predict(x_test)\n",
    "    Ridge_rmse = mean_squared_error(y_test,Ridge_high);Ridge_r2 = r2_score(y_test,Ridge_high)\n",
    "    print(y_test,\"\\t\",ElasticNet_high)\n",
    "    \n",
    "    "
   ]
  },
  {
   "cell_type": "code",
   "execution_count": 96,
   "metadata": {},
   "outputs": [
    {
     "name": "stdout",
     "output_type": "stream",
     "text": [
      "**************************************TABLE*******************************************************\n",
      "Linear[1]\tLasso[2]\tRidge[3]\tElastic[4]\n",
      "34.409075957666396 \t 33.5845549355824 \t 34.42210266206131 \t 35.21331702168007\n"
     ]
    }
   ],
   "source": [
    "    print(\"**************************************TABLE*******************************************************\")\n",
    "    print(\"Linear[1]\\tLasso[2]\\tRidge[3]\\tElastic[4]\")\n",
    "    print(Linear_rmse,\"\\t\",Lasso_rmse,\"\\t\",Ridge_rmse,\"\\t\",ElasticNet_rmse)"
   ]
  },
  {
   "cell_type": "markdown",
   "metadata": {},
   "source": [
    "def cklinear(x_test):\n",
    "    Linear_high=linear.predict(x_test)\n",
    "    print(\"Linaer high is\",Linear_high)\n",
    "def cklasso(x_test):\n",
    "    Lasso_high=lass.predict(x_test)\n",
    "    print(\"Lasso high is\",Lasso_high)\n",
    "def ckridge(x_test):\n",
    "    ridge_high=ridge.predict(x_test)\n",
    "    print(\"Ridge high is\",ridge_high)\n",
    "def ckelastic(x_test):\n",
    "    elastic_high=elastic.predict(x_test)\n",
    "    print(\"Elastic high is\",elastic_high)\n",
    "\n",
    "    "
   ]
  },
  {
   "cell_type": "code",
   "execution_count": 90,
   "metadata": {},
   "outputs": [
    {
     "name": "stdout",
     "output_type": "stream",
     "text": [
      "Lasso high is [283.99762023]\n",
      "ELASTIC high is [283.97251913]\n",
      "LINEAR high is  [283.97905181]\n"
     ]
    }
   ],
   "source": [
    "    test=[0,0,0]\n",
    "    Lasso_high=lass.predict(x_test)\n",
    "    print(\"Lasso high is\",Lasso_high)\n",
    "    elastic_high=elastic.predict(x_test)\n",
    "    print(\"ELASTIC high is\",elastic_high)\n",
    "    LIN=linear.predict(x_test)\n",
    "    print(\"LINEAR high is \",LIN)"
   ]
  },
  {
   "cell_type": "markdown",
   "metadata": {},
   "source": [
    "C:\\Users\\Bharat\\Downloads\\15-11-2018-TO-14-11-2019ZEELEQN.csv"
   ]
  },
  {
   "cell_type": "code",
   "execution_count": null,
   "metadata": {},
   "outputs": [],
   "source": []
  }
 ],
 "metadata": {
  "kernelspec": {
   "display_name": "Python 3",
   "language": "python",
   "name": "python3"
  },
  "language_info": {
   "codemirror_mode": {
    "name": "ipython",
    "version": 3
   },
   "file_extension": ".py",
   "mimetype": "text/x-python",
   "name": "python",
   "nbconvert_exporter": "python",
   "pygments_lexer": "ipython3",
   "version": "3.7.4"
  }
 },
 "nbformat": 4,
 "nbformat_minor": 2
}
